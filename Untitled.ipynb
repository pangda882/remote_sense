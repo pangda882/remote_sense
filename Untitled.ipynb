{
 "cells": [
  {
   "cell_type": "code",
   "execution_count": 9,
   "id": "69ebdc39-b3ea-46da-8337-65eefb5f8938",
   "metadata": {},
   "outputs": [
    {
     "ename": "TypeError",
     "evalue": "expected str, bytes or os.PathLike object, not NoneType",
     "output_type": "error",
     "traceback": [
      "\u001b[0;31m---------------------------------------------------------------------------\u001b[0m",
      "\u001b[0;31mTypeError\u001b[0m                                 Traceback (most recent call last)",
      "Cell \u001b[0;32mIn[9], line 2\u001b[0m\n\u001b[1;32m      1\u001b[0m \u001b[38;5;28;01mimport\u001b[39;00m \u001b[38;5;21;01mos\u001b[39;00m  \n\u001b[0;32m----> 2\u001b[0m data_root \u001b[38;5;241m=\u001b[39m \u001b[43mos\u001b[49m\u001b[38;5;241;43m.\u001b[39;49m\u001b[43mpath\u001b[49m\u001b[38;5;241;43m.\u001b[39;49m\u001b[43mjoin\u001b[49m\u001b[43m(\u001b[49m\u001b[43mos\u001b[49m\u001b[38;5;241;43m.\u001b[39;49m\u001b[43menviron\u001b[49m\u001b[38;5;241;43m.\u001b[39;49m\u001b[43mget\u001b[49m\u001b[43m(\u001b[49m\u001b[38;5;124;43m\"\u001b[39;49m\u001b[38;5;124;43mCDPATH\u001b[39;49m\u001b[38;5;124;43m\"\u001b[39;49m\u001b[43m)\u001b[49m\u001b[43m,\u001b[49m\u001b[43m \u001b[49m\u001b[38;5;124;43m'\u001b[39;49m\u001b[38;5;124;43mSYSU-CD\u001b[39;49m\u001b[38;5;124;43m'\u001b[39;49m\u001b[43m)\u001b[49m\n",
      "File \u001b[0;32m~/miniconda3/lib/python3.10/posixpath.py:76\u001b[0m, in \u001b[0;36mjoin\u001b[0;34m(a, *p)\u001b[0m\n\u001b[1;32m     71\u001b[0m \u001b[38;5;28;01mdef\u001b[39;00m \u001b[38;5;21mjoin\u001b[39m(a, \u001b[38;5;241m*\u001b[39mp):\n\u001b[1;32m     72\u001b[0m \u001b[38;5;250m    \u001b[39m\u001b[38;5;124;03m\"\"\"Join two or more pathname components, inserting '/' as needed.\u001b[39;00m\n\u001b[1;32m     73\u001b[0m \u001b[38;5;124;03m    If any component is an absolute path, all previous path components\u001b[39;00m\n\u001b[1;32m     74\u001b[0m \u001b[38;5;124;03m    will be discarded.  An empty last part will result in a path that\u001b[39;00m\n\u001b[1;32m     75\u001b[0m \u001b[38;5;124;03m    ends with a separator.\"\"\"\u001b[39;00m\n\u001b[0;32m---> 76\u001b[0m     a \u001b[38;5;241m=\u001b[39m \u001b[43mos\u001b[49m\u001b[38;5;241;43m.\u001b[39;49m\u001b[43mfspath\u001b[49m\u001b[43m(\u001b[49m\u001b[43ma\u001b[49m\u001b[43m)\u001b[49m\n\u001b[1;32m     77\u001b[0m     sep \u001b[38;5;241m=\u001b[39m _get_sep(a)\n\u001b[1;32m     78\u001b[0m     path \u001b[38;5;241m=\u001b[39m a\n",
      "\u001b[0;31mTypeError\u001b[0m: expected str, bytes or os.PathLike object, not NoneType"
     ]
    }
   ],
   "source": [
    "import os  \n",
    "data_root = os.path.join(os.environ.get(\"CDPATH\"), 'SYSU-CD')"
   ]
  },
  {
   "cell_type": "code",
   "execution_count": 10,
   "id": "a58da9ae-4e43-4e57-a81f-4dd0698a5130",
   "metadata": {},
   "outputs": [
    {
     "name": "stdout",
     "output_type": "stream",
     "text": [
      "None\n"
     ]
    }
   ],
   "source": [
    "print(os.environ.get(\"CDPATH\"))"
   ]
  },
  {
   "cell_type": "code",
   "execution_count": 11,
   "id": "e6b85f25-011c-4550-b7b3-dac87772ad3f",
   "metadata": {},
   "outputs": [
    {
     "name": "stderr",
     "output_type": "stream",
     "text": [
      "/root/miniconda3/lib/python3.10/site-packages/tqdm/auto.py:21: TqdmWarning: IProgress not found. Please update jupyter and ipywidgets. See https://ipywidgets.readthedocs.io/en/stable/user_install.html\n",
      "  from .autonotebook import tqdm as notebook_tqdm\n"
     ]
    },
    {
     "name": "stdout",
     "output_type": "stream",
     "text": [
      "11.7\n",
      "True\n",
      "NVIDIA A40\n"
     ]
    }
   ],
   "source": [
    "import torch\n",
    "print(torch.version.cuda)         # 应该是 11.8\n",
    "print(torch.cuda.is_available())  # 应该是 True\n",
    "print(torch.cuda.get_device_name(0))  # 查看 GPU 名称\n"
   ]
  },
  {
   "cell_type": "code",
   "execution_count": 3,
   "id": "2cdbcb98-e63f-487e-af0a-a543f8d2c712",
   "metadata": {},
   "outputs": [
    {
     "name": "stdout",
     "output_type": "stream",
     "text": [
      "✅ 数据结构检查完成\n",
      "train_list.txt 和 test_list.txt 已生成于: /gemini/data-1/SYSU\n",
      "训练样本数: 9600, 测试样本数: 2400\n"
     ]
    }
   ],
   "source": [
    "import os\n",
    "import random\n",
    "\n",
    "# 数据集根目录\n",
    "DATASET_ROOT = \"/gemini/data-1/SYSU\"\n",
    "\n",
    "# 各子路径\n",
    "train_dir = os.path.join(DATASET_ROOT, \"train\")\n",
    "test_dir = os.path.join(DATASET_ROOT, \"test\")\n",
    "\n",
    "for split in [train_dir, test_dir]:\n",
    "    for sub in [\"T1\", \"T2\", \"GT\"]:\n",
    "        os.makedirs(os.path.join(split, sub), exist_ok=True)\n",
    "\n",
    "# 获取 train 集文件名（假设 T1/T2/GT 同名）\n",
    "t1_train_path = os.path.join(train_dir, \"T1\")\n",
    "files = [f for f in os.listdir(t1_train_path) if f.endswith(\".png\")]\n",
    "files.sort()\n",
    "\n",
    "# 随机划分 80% 训练、20% 测试\n",
    "random.seed(42)\n",
    "random.shuffle(files)\n",
    "split_idx = int(len(files) * 0.8)\n",
    "train_files = files[:split_idx]\n",
    "test_files = files[split_idx:]\n",
    "\n",
    "# 写入 train_list.txt 和 test_list.txt（保留 .png）\n",
    "with open(os.path.join(DATASET_ROOT, \"train_list.txt\"), \"w\") as f:\n",
    "    f.writelines(f\"{fn}\\n\" for fn in train_files)\n",
    "\n",
    "with open(os.path.join(DATASET_ROOT, \"test_list.txt\"), \"w\") as f:\n",
    "    f.writelines(f\"{fn}\\n\" for fn in test_files)\n",
    "\n",
    "print(\"✅ 数据结构检查完成\")\n",
    "print(\"train_list.txt 和 test_list.txt 已生成于:\", DATASET_ROOT)\n",
    "print(f\"训练样本数: {len(train_files)}, 测试样本数: {len(test_files)}\")\n"
   ]
  },
  {
   "cell_type": "code",
   "execution_count": 2,
   "id": "67e8e703",
   "metadata": {},
   "outputs": [
    {
     "data": {
      "text/plain": [
       "('a', 'b', 'c', 'd')"
      ]
     },
     "execution_count": 2,
     "metadata": {},
     "output_type": "execute_result"
    }
   ],
   "source": [
    "tuple(['a','b','c','d'])"
   ]
  },
  {
   "cell_type": "code",
   "execution_count": null,
   "id": "fc4eeb85",
   "metadata": {},
   "outputs": [],
   "source": []
  }
 ],
 "metadata": {
  "kernelspec": {
   "display_name": "base",
   "language": "python",
   "name": "python3"
  },
  "language_info": {
   "codemirror_mode": {
    "name": "ipython",
    "version": 3
   },
   "file_extension": ".py",
   "mimetype": "text/x-python",
   "name": "python",
   "nbconvert_exporter": "python",
   "pygments_lexer": "ipython3",
   "version": "3.13.5"
  }
 },
 "nbformat": 4,
 "nbformat_minor": 5
}
